{
 "cells": [
  {
   "cell_type": "code",
   "execution_count": 10,
   "id": "29ce9a27-d6df-4465-9e33-544518f4b59c",
   "metadata": {},
   "outputs": [
    {
     "data": {
      "text/plain": [
       "KNeighborsClassifier(n_neighbors=1)"
      ]
     },
     "execution_count": 10,
     "metadata": {},
     "output_type": "execute_result"
    }
   ],
   "source": [
    "from sklearn.datasets import load_iris\n",
    "from sklearn.neighbors import KNeighborsClassifier\n",
    "from sklearn.model_selection import train_test_split\n",
    "from sklearn import metrics\n",
    "from sklearn.model_selection import train_test_split\n",
    "\n",
    "\n",
    "x_train, x_test, y_train, y_test = train_test_split(x, y, test_size=0.25, random_state=20)\n",
    "iris = load_iris()\n",
    "knn = KNeighborsClassifier(n_neighbors=1)\n",
    "x = iris.data\n",
    "y = iris.target\n",
    "knn.fit(x,y)"
   ]
  },
  {
   "cell_type": "code",
   "execution_count": 11,
   "id": "3376d32e-f356-4c77-bf31-1452c37dde1c",
   "metadata": {},
   "outputs": [
    {
     "name": "stdout",
     "output_type": "stream",
     "text": [
      "{1: 0.8947, 2: 0.8947, 3: 0.9211, 4: 0.9211, 5: 0.9474, 6: 0.9474, 7: 0.9737, 8: 0.9474, 9: 0.9737, 10: 0.9737, 11: 0.9737, 12: 0.9737, 13: 0.9737, 14: 0.9737, 15: 0.9737, 16: 0.9737, 17: 0.9737, 18: 0.9737, 19: 0.9737, 20: 0.9737, 21: 0.9737, 22: 0.9474, 23: 0.9474, 24: 0.9474, 25: 0.9474}\n"
     ]
    }
   ],
   "source": [
    "#dictionary to store k values\n",
    "k_values = {}\n",
    "k = 1\n",
    "\n",
    "#loop for the algo\n",
    "while k <= 25:\n",
    "    knn = KNeighborsClassifier(n_neighbors=k)\n",
    "    knn.fit(x_train, y_train)\n",
    "    predictions = knn.predict(x_test)\n",
    "    performance = metrics.accuracy_score(y_test, predictions)\n",
    "    \n",
    "    #push to dictionary\n",
    "    k_values[k] = round(performance,4)\n",
    "    \n",
    "    #increment k\n",
    "    k += 1\n",
    "\n",
    "print(k_values)"
   ]
  },
  {
   "cell_type": "code",
   "execution_count": 12,
   "id": "2aa18b0e-b56a-420c-a618-79507e846674",
   "metadata": {},
   "outputs": [
    {
     "data": {
      "image/png": "[encoded data removed]",
      "text/plain": [
       "<Figure size 432x288 with 1 Axes>"
      ]
     },
     "metadata": {
      "needs_background": "light"
     },
     "output_type": "display_data"
    }
   ],
   "source": [
    "import matplotlib.pyplot as plt\n",
    "%matplotlib inline\n",
    "\n",
    "plt.plot(list(k_values.keys()), list(k_values.values()))\n",
    "plt.xlabel(\"values of k\")\n",
    "plt.ylabel(\"Performance\")\n",
    "plt.show()"
   ]
  },
  {
   "cell_type": "code",
   "execution_count": null,
   "id": "7dcfde35-0073-48ae-b5b3-fd46d4cc0323",
   "metadata": {},
   "outputs": [],
   "source": []
  },
  {
   "cell_type": "code",
   "execution_count": null,
   "id": "a04c5409-807d-4124-84a5-4ee357ecbf42",
   "metadata": {},
   "outputs": [],
   "source": []
  }
 ],
 "metadata": {
  "kernelspec": {
   "display_name": "Python 3",
   "language": "python",
   "name": "python3"
  },
  "language_info": {
   "codemirror_mode": {
    "name": "ipython",
    "version": 3
   },
   "file_extension": ".py",
   "mimetype": "text/x-python",
   "name": "python",
   "nbconvert_exporter": "python",
   "pygments_lexer": "ipython3",
   "version": "3.8.8"
  }
 },
 "nbformat": 4,
 "nbformat_minor": 5
}
