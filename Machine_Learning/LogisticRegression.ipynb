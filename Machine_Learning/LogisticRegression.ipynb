{
 "cells": [
  {
   "cell_type": "code",
   "execution_count": 20,
   "id": "b631e780-45a6-4bc6-8d09-09a5ba058305",
   "metadata": {},
   "outputs": [],
   "source": [
    "from sklearn.datasets import load_iris\n",
    "from sklearn.neighbors import KNeighborsClassifier\n",
    "from sklearn.model_selection import train_test_split\n",
    "from sklearn import metrics\n",
    "from sklearn.model_selection import train_test_split\n",
    "import matplotlib.pyplot as plt\n",
    "from sklearn.linear_model import LogisticRegression"
   ]
  },
  {
   "cell_type": "code",
   "execution_count": 21,
   "id": "dda9b96d-9e56-442e-8470-992f570e1347",
   "metadata": {},
   "outputs": [],
   "source": [
    "iris = load_iris()\n",
    "knn = KNeighborsClassifier(n_neighbors=1)\n",
    "x = iris.data\n",
    "y = iris.target\n",
    "knn.fit(x,y)\n",
    "x_train, x_test, y_train, y_test = train_test_split(x, y, test_size=0.25, random_state=20)\n"
   ]
  },
  {
   "cell_type": "code",
   "execution_count": 15,
   "id": "b286e6af-584d-490e-8ab7-b4e9ca87659e",
   "metadata": {},
   "outputs": [
    {
     "name": "stdout",
     "output_type": "stream",
     "text": [
      "1.0\n"
     ]
    }
   ],
   "source": [
    "logreg = LogisticRegression()\n",
    "logreg.fit(x_train, y_train)\n",
    "predictions_logreg = logreg.predict(x_test)\n",
    "performance_logreg = metrics.accuracy_score(y_test, predictions_logreg)\n",
    "print(performance_logreg)"
   ]
  },
  {
   "cell_type": "code",
   "execution_count": null,
   "id": "4f583966-e15c-4041-b290-dba8c5186324",
   "metadata": {},
   "outputs": [],
   "source": []
  }
 ],
 "metadata": {
  "kernelspec": {
   "display_name": "Python 3",
   "language": "python",
   "name": "python3"
  },
  "language_info": {
   "codemirror_mode": {
    "name": "ipython",
    "version": 3
   },
   "file_extension": ".py",
   "mimetype": "text/x-python",
   "name": "python",
   "nbconvert_exporter": "python",
   "pygments_lexer": "ipython3",
   "version": "3.8.8"
  }
 },
 "nbformat": 4,
 "nbformat_minor": 5
}
